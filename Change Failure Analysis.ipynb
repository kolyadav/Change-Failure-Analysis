{
 "cells": [
  {
   "cell_type": "markdown",
   "metadata": {},
   "source": [
    "## Change Failure Analysis"
   ]
  },
  {
   "cell_type": "markdown",
   "metadata": {},
   "source": [
    "#### Getting the system ready and loading the data"
   ]
  },
  {
   "cell_type": "code",
   "execution_count": 48,
   "metadata": {},
   "outputs": [],
   "source": [
    "## Load Packages\n",
    "import pandas as pd\n",
    "import numpy as np                # For Mathematical calculations\n",
    "import seaborn as sns             # For data Visualization\n",
    "import matplotlib.pyplot as plt   # For Plotting Graphs\n",
    "%matplotlib inline\n",
    "import warnings                   # To Ignore any warnings\n",
    "warnings.filterwarnings(\"ignore\")"
   ]
  },
  {
   "cell_type": "code",
   "execution_count": 49,
   "metadata": {
    "scrolled": true
   },
   "outputs": [
    {
     "data": {
      "text/html": [
       "<div>\n",
       "<style scoped>\n",
       "    .dataframe tbody tr th:only-of-type {\n",
       "        vertical-align: middle;\n",
       "    }\n",
       "\n",
       "    .dataframe tbody tr th {\n",
       "        vertical-align: top;\n",
       "    }\n",
       "\n",
       "    .dataframe thead th {\n",
       "        text-align: right;\n",
       "    }\n",
       "</style>\n",
       "<table border=\"1\" class=\"dataframe\">\n",
       "  <thead>\n",
       "    <tr style=\"text-align: right;\">\n",
       "      <th></th>\n",
       "      <th>Week_Dt</th>\n",
       "      <th>Week_Num</th>\n",
       "      <th>Account Name</th>\n",
       "      <th>Sector</th>\n",
       "      <th>Change implementation Date</th>\n",
       "      <th>Change implementation Day</th>\n",
       "      <th>Change closure Date</th>\n",
       "      <th>Change #</th>\n",
       "      <th>Team</th>\n",
       "      <th>Change Owner Notes ID</th>\n",
       "      <th>...</th>\n",
       "      <th>Location</th>\n",
       "      <th>Location 2</th>\n",
       "      <th>Normal, Emergency or Expedited Change</th>\n",
       "      <th>Change Risk Level</th>\n",
       "      <th>Validation By SM</th>\n",
       "      <th>Code1</th>\n",
       "      <th>SubCode1</th>\n",
       "      <th>Reason for failure</th>\n",
       "      <th>Client Impact</th>\n",
       "      <th>Additional Comments</th>\n",
       "    </tr>\n",
       "  </thead>\n",
       "  <tbody>\n",
       "    <tr>\n",
       "      <th>0</th>\n",
       "      <td>20190104</td>\n",
       "      <td>Week -01 (19)</td>\n",
       "      <td>AECOM</td>\n",
       "      <td>IND</td>\n",
       "      <td>20-12-2018</td>\n",
       "      <td>Thu</td>\n",
       "      <td>03-01-2019</td>\n",
       "      <td>CHG0037879</td>\n",
       "      <td>I-ACM-SS_Virtualization-XX</td>\n",
       "      <td>Ariel Eduardo Schivo/Argentina/IBM</td>\n",
       "      <td>...</td>\n",
       "      <td>Argentina: Buenos Aires</td>\n",
       "      <td>Non CIC</td>\n",
       "      <td>Normal</td>\n",
       "      <td>Medium</td>\n",
       "      <td>NaN</td>\n",
       "      <td>NaN</td>\n",
       "      <td>NaN</td>\n",
       "      <td>Process: Change Management</td>\n",
       "      <td>NO</td>\n",
       "      <td>Unauthorized: Approved late</td>\n",
       "    </tr>\n",
       "    <tr>\n",
       "      <th>1</th>\n",
       "      <td>20190104</td>\n",
       "      <td>Week -01 (19)</td>\n",
       "      <td>AECOM</td>\n",
       "      <td>IND</td>\n",
       "      <td>03-01-2019</td>\n",
       "      <td>Thu</td>\n",
       "      <td>04-01-2019</td>\n",
       "      <td>CHG0037956</td>\n",
       "      <td>I-ACM-IT Infrastructure Storage Non Itar - US</td>\n",
       "      <td>Ariel Pastorino/Argentina/IBM</td>\n",
       "      <td>...</td>\n",
       "      <td>Argentina: Buenos Aires</td>\n",
       "      <td>Non CIC</td>\n",
       "      <td>Emergency</td>\n",
       "      <td>Medium</td>\n",
       "      <td>NaN</td>\n",
       "      <td>NaN</td>\n",
       "      <td>NaN</td>\n",
       "      <td>Process: Change Management</td>\n",
       "      <td>NO</td>\n",
       "      <td>Change implemented outside window</td>\n",
       "    </tr>\n",
       "    <tr>\n",
       "      <th>2</th>\n",
       "      <td>20190104</td>\n",
       "      <td>Week -01 (19)</td>\n",
       "      <td>Ameriprise Financial</td>\n",
       "      <td>FSS</td>\n",
       "      <td>04-01-2019</td>\n",
       "      <td>Fri</td>\n",
       "      <td>05-01-2019</td>\n",
       "      <td>CHG0523231</td>\n",
       "      <td>IBM US Network Infrastructure</td>\n",
       "      <td>Neeraj K Jha/India/IBM</td>\n",
       "      <td>...</td>\n",
       "      <td>Non-GDF: Other</td>\n",
       "      <td>Non CIC</td>\n",
       "      <td>Normal</td>\n",
       "      <td>Minor</td>\n",
       "      <td>NaN</td>\n",
       "      <td>NaN</td>\n",
       "      <td>NaN</td>\n",
       "      <td>NaN</td>\n",
       "      <td>Yes</td>\n",
       "      <td>Unexpected impact to application</td>\n",
       "    </tr>\n",
       "    <tr>\n",
       "      <th>3</th>\n",
       "      <td>20190104</td>\n",
       "      <td>Week -01 (19)</td>\n",
       "      <td>VF</td>\n",
       "      <td>DIS</td>\n",
       "      <td>02-01-2019</td>\n",
       "      <td>Wed</td>\n",
       "      <td>03-01-2019</td>\n",
       "      <td>CHG0026303</td>\n",
       "      <td>IGS-VFDB2UDB</td>\n",
       "      <td>Santhosh Vanathu/India/IBM</td>\n",
       "      <td>...</td>\n",
       "      <td>Non-GDF: Other</td>\n",
       "      <td>Non CIC</td>\n",
       "      <td>Emergency</td>\n",
       "      <td>Critical/High</td>\n",
       "      <td>NaN</td>\n",
       "      <td>NaN</td>\n",
       "      <td>NaN</td>\n",
       "      <td>People: Decision making error</td>\n",
       "      <td>NO</td>\n",
       "      <td>Unauthorized change - Verbal approval was gran...</td>\n",
       "    </tr>\n",
       "    <tr>\n",
       "      <th>4</th>\n",
       "      <td>20190104</td>\n",
       "      <td>Week -01 (19)</td>\n",
       "      <td>VF</td>\n",
       "      <td>DIS</td>\n",
       "      <td>15-12-2018</td>\n",
       "      <td>Sat</td>\n",
       "      <td>03-01-2019</td>\n",
       "      <td>CHG0026121</td>\n",
       "      <td>IGS-VFUNIX</td>\n",
       "      <td>Sathiya R Kamaraj/India/IBM</td>\n",
       "      <td>...</td>\n",
       "      <td>India: Chennai</td>\n",
       "      <td>CIC</td>\n",
       "      <td>Expedited</td>\n",
       "      <td>Minor</td>\n",
       "      <td>NaN</td>\n",
       "      <td>NaN</td>\n",
       "      <td>NaN</td>\n",
       "      <td>People: Decision making error</td>\n",
       "      <td>NO</td>\n",
       "      <td>Failed Change - Change closed as implemented u...</td>\n",
       "    </tr>\n",
       "  </tbody>\n",
       "</table>\n",
       "<p>5 rows × 22 columns</p>\n",
       "</div>"
      ],
      "text/plain": [
       "    Week_Dt       Week_Num         Account Name  Sector  \\\n",
       "0  20190104  Week -01 (19)                 AECOM    IND   \n",
       "1  20190104  Week -01 (19)                 AECOM    IND   \n",
       "2  20190104  Week -01 (19)  Ameriprise Financial    FSS   \n",
       "3  20190104  Week -01 (19)                    VF    DIS   \n",
       "4  20190104  Week -01 (19)                    VF    DIS   \n",
       "\n",
       "  Change implementation Date   Change implementation Day Change closure Date   \\\n",
       "0                   20-12-2018                       Thu           03-01-2019   \n",
       "1                   03-01-2019                       Thu           04-01-2019   \n",
       "2                   04-01-2019                       Fri           05-01-2019   \n",
       "3                   02-01-2019                       Wed           03-01-2019   \n",
       "4                   15-12-2018                       Sat           03-01-2019   \n",
       "\n",
       "   Change #                                             Team  \\\n",
       "0  CHG0037879                     I-ACM-SS_Virtualization-XX   \n",
       "1  CHG0037956  I-ACM-IT Infrastructure Storage Non Itar - US   \n",
       "2  CHG0523231                  IBM US Network Infrastructure   \n",
       "3  CHG0026303                                   IGS-VFDB2UDB   \n",
       "4  CHG0026121                                     IGS-VFUNIX   \n",
       "\n",
       "               Change Owner Notes ID   \\\n",
       "0  Ariel Eduardo Schivo/Argentina/IBM   \n",
       "1       Ariel Pastorino/Argentina/IBM   \n",
       "2              Neeraj K Jha/India/IBM   \n",
       "3          Santhosh Vanathu/India/IBM   \n",
       "4         Sathiya R Kamaraj/India/IBM   \n",
       "\n",
       "                         ...                                       Location    \\\n",
       "0                        ...                          Argentina: Buenos Aires   \n",
       "1                        ...                          Argentina: Buenos Aires   \n",
       "2                        ...                                   Non-GDF: Other   \n",
       "3                        ...                                   Non-GDF: Other   \n",
       "4                        ...                                   India: Chennai   \n",
       "\n",
       "  Location 2 Normal, Emergency or Expedited Change  Change Risk Level   \\\n",
       "0    Non CIC                                 Normal             Medium   \n",
       "1    Non CIC                              Emergency             Medium   \n",
       "2    Non CIC                                 Normal              Minor   \n",
       "3    Non CIC                             Emergency       Critical/High   \n",
       "4        CIC                              Expedited              Minor   \n",
       "\n",
       "  Validation By SM Code1  SubCode1            Reason for failure   \\\n",
       "0              NaN   NaN       NaN     Process: Change Management   \n",
       "1              NaN   NaN       NaN     Process: Change Management   \n",
       "2              NaN   NaN       NaN                            NaN   \n",
       "3              NaN   NaN       NaN  People: Decision making error   \n",
       "4              NaN   NaN       NaN  People: Decision making error   \n",
       "\n",
       "   Client Impact                                Additional Comments  \n",
       "0             NO                        Unauthorized: Approved late  \n",
       "1             NO                  Change implemented outside window  \n",
       "2            Yes                   Unexpected impact to application  \n",
       "3             NO  Unauthorized change - Verbal approval was gran...  \n",
       "4             NO  Failed Change - Change closed as implemented u...  \n",
       "\n",
       "[5 rows x 22 columns]"
      ]
     },
     "execution_count": 49,
     "metadata": {},
     "output_type": "execute_result"
    }
   ],
   "source": [
    "## Reading the Data\n",
    "cf = pd.read_csv(\"cf.csv\")\n",
    "cf.head()"
   ]
  },
  {
   "cell_type": "code",
   "execution_count": 50,
   "metadata": {},
   "outputs": [
    {
     "data": {
      "text/html": [
       "<div>\n",
       "<style scoped>\n",
       "    .dataframe tbody tr th:only-of-type {\n",
       "        vertical-align: middle;\n",
       "    }\n",
       "\n",
       "    .dataframe tbody tr th {\n",
       "        vertical-align: top;\n",
       "    }\n",
       "\n",
       "    .dataframe thead th {\n",
       "        text-align: right;\n",
       "    }\n",
       "</style>\n",
       "<table border=\"1\" class=\"dataframe\">\n",
       "  <thead>\n",
       "    <tr style=\"text-align: right;\">\n",
       "      <th></th>\n",
       "      <th>Week_Dt</th>\n",
       "      <th>Week_Num</th>\n",
       "      <th>Account Name</th>\n",
       "      <th>Sector</th>\n",
       "      <th>Change implementation Date</th>\n",
       "      <th>Change implementation Day</th>\n",
       "      <th>Change closure Date</th>\n",
       "      <th>Change #</th>\n",
       "      <th>Team</th>\n",
       "      <th>Change Owner Notes ID</th>\n",
       "      <th>...</th>\n",
       "      <th>Location</th>\n",
       "      <th>Location 2</th>\n",
       "      <th>Normal, Emergency or Expedited Change</th>\n",
       "      <th>Change Risk Level</th>\n",
       "      <th>Validation By SM</th>\n",
       "      <th>Code1</th>\n",
       "      <th>SubCode1</th>\n",
       "      <th>Reason for failure</th>\n",
       "      <th>Client Impact</th>\n",
       "      <th>Additional Comments</th>\n",
       "    </tr>\n",
       "  </thead>\n",
       "  <tbody>\n",
       "    <tr>\n",
       "      <th>4</th>\n",
       "      <td>20190104</td>\n",
       "      <td>Week -01 (19)</td>\n",
       "      <td>VF</td>\n",
       "      <td>DIS</td>\n",
       "      <td>15-12-2018</td>\n",
       "      <td>Sat</td>\n",
       "      <td>03-01-2019</td>\n",
       "      <td>CHG0026121</td>\n",
       "      <td>IGS-VFUNIX</td>\n",
       "      <td>Sathiya R Kamaraj/India/IBM</td>\n",
       "      <td>...</td>\n",
       "      <td>India: Chennai</td>\n",
       "      <td>CIC</td>\n",
       "      <td>Expedited</td>\n",
       "      <td>Minor</td>\n",
       "      <td>NaN</td>\n",
       "      <td>NaN</td>\n",
       "      <td>NaN</td>\n",
       "      <td>People: Decision making error</td>\n",
       "      <td>NO</td>\n",
       "      <td>Failed Change - Change closed as implemented u...</td>\n",
       "    </tr>\n",
       "    <tr>\n",
       "      <th>6</th>\n",
       "      <td>20190111</td>\n",
       "      <td>Week -02 (19)</td>\n",
       "      <td>Delhaize America Shared Services Group, LLC</td>\n",
       "      <td>DIS</td>\n",
       "      <td>07-01-2019</td>\n",
       "      <td>Mon</td>\n",
       "      <td>11-01-2019</td>\n",
       "      <td>CHG0064982</td>\n",
       "      <td>IBM-Wintel-Support</td>\n",
       "      <td>Dennis Clement/India/IBM</td>\n",
       "      <td>...</td>\n",
       "      <td>India: Chennai</td>\n",
       "      <td>CIC</td>\n",
       "      <td>Normal</td>\n",
       "      <td>Minor</td>\n",
       "      <td>NaN</td>\n",
       "      <td>NaN</td>\n",
       "      <td>NaN</td>\n",
       "      <td>People: Decision making error</td>\n",
       "      <td>NO</td>\n",
       "      <td>Change implemented before schedule start</td>\n",
       "    </tr>\n",
       "    <tr>\n",
       "      <th>7</th>\n",
       "      <td>20190111</td>\n",
       "      <td>Week -02 (19)</td>\n",
       "      <td>Fluor</td>\n",
       "      <td>IND</td>\n",
       "      <td>06-12-2018</td>\n",
       "      <td>Thu</td>\n",
       "      <td>09-01-2019</td>\n",
       "      <td>CH138610</td>\n",
       "      <td>FLR-I-SSOGSBF</td>\n",
       "      <td>Narendra J1/India/IBM</td>\n",
       "      <td>...</td>\n",
       "      <td>India: Bangalore</td>\n",
       "      <td>CIC</td>\n",
       "      <td>Normal</td>\n",
       "      <td>Medium</td>\n",
       "      <td>NaN</td>\n",
       "      <td>NaN</td>\n",
       "      <td>NaN</td>\n",
       "      <td>Process: Change Management</td>\n",
       "      <td>NO</td>\n",
       "      <td>Unauthorized change - FLR-I-SSOGSBF group appr...</td>\n",
       "    </tr>\n",
       "    <tr>\n",
       "      <th>8</th>\n",
       "      <td>20190111</td>\n",
       "      <td>Week -02 (19)</td>\n",
       "      <td>Fluor</td>\n",
       "      <td>IND</td>\n",
       "      <td>07-01-2019</td>\n",
       "      <td>Mon</td>\n",
       "      <td>11-01-2019</td>\n",
       "      <td>CH140034</td>\n",
       "      <td>FLR-I-SSOGSBF</td>\n",
       "      <td>Ravikumar Medidi/India/IBM</td>\n",
       "      <td>...</td>\n",
       "      <td>India: Hyderabad</td>\n",
       "      <td>CIC</td>\n",
       "      <td>Normal</td>\n",
       "      <td>Minor</td>\n",
       "      <td>NaN</td>\n",
       "      <td>NaN</td>\n",
       "      <td>NaN</td>\n",
       "      <td>Process: Change Management</td>\n",
       "      <td>NO</td>\n",
       "      <td>Unauthorized change - FLR-I-SDMHODPE group app...</td>\n",
       "    </tr>\n",
       "    <tr>\n",
       "      <th>9</th>\n",
       "      <td>20190111</td>\n",
       "      <td>Week -02 (19)</td>\n",
       "      <td>Fluor</td>\n",
       "      <td>IND</td>\n",
       "      <td>07-01-2019</td>\n",
       "      <td>Mon</td>\n",
       "      <td>07-01-2019</td>\n",
       "      <td>CH140017</td>\n",
       "      <td>FLR-I-SSOGXVMWR</td>\n",
       "      <td>Bharathsimha R Jataprole1/India/IBM</td>\n",
       "      <td>...</td>\n",
       "      <td>India: Hyderabad</td>\n",
       "      <td>CIC</td>\n",
       "      <td>Normal</td>\n",
       "      <td>Minor</td>\n",
       "      <td>NaN</td>\n",
       "      <td>NaN</td>\n",
       "      <td>NaN</td>\n",
       "      <td>Process: Change Management</td>\n",
       "      <td>NO</td>\n",
       "      <td>Unauthorized change - FLR-I-DNI-NET &amp; FLR-I-SD...</td>\n",
       "    </tr>\n",
       "  </tbody>\n",
       "</table>\n",
       "<p>5 rows × 22 columns</p>\n",
       "</div>"
      ],
      "text/plain": [
       "    Week_Dt       Week_Num                                Account Name   \\\n",
       "4  20190104  Week -01 (19)                                           VF   \n",
       "6  20190111  Week -02 (19)  Delhaize America Shared Services Group, LLC   \n",
       "7  20190111  Week -02 (19)                                        Fluor   \n",
       "8  20190111  Week -02 (19)                                        Fluor   \n",
       "9  20190111  Week -02 (19)                                        Fluor   \n",
       "\n",
       "  Sector Change implementation Date   Change implementation Day  \\\n",
       "4    DIS                   15-12-2018                       Sat   \n",
       "6    DIS                   07-01-2019                       Mon   \n",
       "7    IND                   06-12-2018                       Thu   \n",
       "8    IND                   07-01-2019                       Mon   \n",
       "9    IND                   07-01-2019                       Mon   \n",
       "\n",
       "  Change closure Date   Change #                  Team  \\\n",
       "4           03-01-2019  CHG0026121          IGS-VFUNIX   \n",
       "6           11-01-2019  CHG0064982  IBM-Wintel-Support   \n",
       "7           09-01-2019    CH138610       FLR-I-SSOGSBF   \n",
       "8           11-01-2019    CH140034       FLR-I-SSOGSBF   \n",
       "9           07-01-2019    CH140017     FLR-I-SSOGXVMWR   \n",
       "\n",
       "                Change Owner Notes ID   \\\n",
       "4          Sathiya R Kamaraj/India/IBM   \n",
       "6             Dennis Clement/India/IBM   \n",
       "7                Narendra J1/India/IBM   \n",
       "8           Ravikumar Medidi/India/IBM   \n",
       "9  Bharathsimha R Jataprole1/India/IBM   \n",
       "\n",
       "                         ...                                Location    \\\n",
       "4                        ...                            India: Chennai   \n",
       "6                        ...                            India: Chennai   \n",
       "7                        ...                          India: Bangalore   \n",
       "8                        ...                          India: Hyderabad   \n",
       "9                        ...                          India: Hyderabad   \n",
       "\n",
       "  Location 2 Normal, Emergency or Expedited Change  Change Risk Level   \\\n",
       "4        CIC                              Expedited              Minor   \n",
       "6        CIC                                 Normal              Minor   \n",
       "7        CIC                                 Normal             Medium   \n",
       "8        CIC                                 Normal              Minor   \n",
       "9        CIC                                 Normal              Minor   \n",
       "\n",
       "  Validation By SM Code1  SubCode1            Reason for failure   \\\n",
       "4              NaN   NaN       NaN  People: Decision making error   \n",
       "6              NaN   NaN       NaN  People: Decision making error   \n",
       "7              NaN   NaN       NaN     Process: Change Management   \n",
       "8              NaN   NaN       NaN     Process: Change Management   \n",
       "9              NaN   NaN       NaN     Process: Change Management   \n",
       "\n",
       "   Client Impact                                Additional Comments  \n",
       "4             NO  Failed Change - Change closed as implemented u...  \n",
       "6             NO           Change implemented before schedule start  \n",
       "7             NO  Unauthorized change - FLR-I-SSOGSBF group appr...  \n",
       "8             NO  Unauthorized change - FLR-I-SDMHODPE group app...  \n",
       "9             NO  Unauthorized change - FLR-I-DNI-NET & FLR-I-SD...  \n",
       "\n",
       "[5 rows x 22 columns]"
      ]
     },
     "execution_count": 50,
     "metadata": {},
     "output_type": "execute_result"
    }
   ],
   "source": [
    "## Filter the Data only by CIC\n",
    "cf_cic = cf[cf['Location 2']== 'CIC' ]\n",
    "cf_cic.head()"
   ]
  },
  {
   "cell_type": "code",
   "execution_count": 51,
   "metadata": {},
   "outputs": [
    {
     "data": {
      "text/plain": [
       "(63, 22)"
      ]
     },
     "execution_count": 51,
     "metadata": {},
     "output_type": "execute_result"
    }
   ],
   "source": [
    "# Check the shape\n",
    "cf_cic.shape"
   ]
  },
  {
   "cell_type": "markdown",
   "metadata": {},
   "source": [
    "### Univariant Analysis"
   ]
  },
  {
   "cell_type": "code",
   "execution_count": 52,
   "metadata": {},
   "outputs": [
    {
     "data": {
      "text/plain": [
       "Fluor                                                         15\n",
       "Chrysler                                                       4\n",
       "Blackboard                                                     4\n",
       "AECOM                                                          3\n",
       "BMO Harris                                                     3\n",
       "VF                                                             3\n",
       "BNSF                                                           3\n",
       "Delhaize America Shared Services Group, LLC                    2\n",
       "Air Canada                                                     2\n",
       "Manulife                                                       2\n",
       "Irving Oil                                                     2\n",
       "Altria                                                         2\n",
       "NYK Business Systems Americas Inc                              2\n",
       "New Avon                                                       2\n",
       "Michelin NA                                                    2\n",
       "Element Vehicle Management Services Group, LLC (“Element”)     1\n",
       "FedEx Corporate Services Inc.                                  1\n",
       "FleetCor                                                       1\n",
       "Ameriprise Financial                                           1\n",
       "NASCO                                                          1\n",
       "American Honda Motor                                           1\n",
       "Economical                                                     1\n",
       "Baker Hughes                                                   1\n",
       "Bombardier                                                     1\n",
       "Direct Energy                                                  1\n",
       "Cleveland Clinic                                               1\n",
       "Dow Chemical SO                                                1\n",
       "Name: Account Name , dtype: int64"
      ]
     },
     "execution_count": 52,
     "metadata": {},
     "output_type": "execute_result"
    }
   ],
   "source": [
    "## Will look into the Accounts with More than or equal to 2 Failed Changes\n",
    "cf_cic['Account Name '].value_counts()"
   ]
  },
  {
   "cell_type": "code",
   "execution_count": 53,
   "metadata": {},
   "outputs": [
    {
     "data": {
      "text/plain": [
       "Fluor                                                         0.238095\n",
       "Chrysler                                                      0.063492\n",
       "Blackboard                                                    0.063492\n",
       "AECOM                                                         0.047619\n",
       "BMO Harris                                                    0.047619\n",
       "VF                                                            0.047619\n",
       "BNSF                                                          0.047619\n",
       "Delhaize America Shared Services Group, LLC                   0.031746\n",
       "Air Canada                                                    0.031746\n",
       "Manulife                                                      0.031746\n",
       "Irving Oil                                                    0.031746\n",
       "Altria                                                        0.031746\n",
       "NYK Business Systems Americas Inc                             0.031746\n",
       "New Avon                                                      0.031746\n",
       "Michelin NA                                                   0.031746\n",
       "Element Vehicle Management Services Group, LLC (“Element”)    0.015873\n",
       "FedEx Corporate Services Inc.                                 0.015873\n",
       "FleetCor                                                      0.015873\n",
       "Ameriprise Financial                                          0.015873\n",
       "NASCO                                                         0.015873\n",
       "American Honda Motor                                          0.015873\n",
       "Economical                                                    0.015873\n",
       "Baker Hughes                                                  0.015873\n",
       "Bombardier                                                    0.015873\n",
       "Direct Energy                                                 0.015873\n",
       "Cleveland Clinic                                              0.015873\n",
       "Dow Chemical SO                                               0.015873\n",
       "Name: Account Name , dtype: float64"
      ]
     },
     "execution_count": 53,
     "metadata": {},
     "output_type": "execute_result"
    }
   ],
   "source": [
    "cf_cic['Account Name '].value_counts(normalize=True) # Note there is a White Space in \"Account Name\""
   ]
  },
  {
   "cell_type": "code",
   "execution_count": 54,
   "metadata": {},
   "outputs": [
    {
     "data": {
      "text/plain": [
       "<matplotlib.axes._subplots.AxesSubplot at 0x2784381ce10>"
      ]
     },
     "execution_count": 54,
     "metadata": {},
     "output_type": "execute_result"
    },
    {
     "data": {
      "image/png": "[encoded data removed]",
      "text/plain": [
       "<Figure size 432x288 with 1 Axes>"
      ]
     },
     "metadata": {},
     "output_type": "display_data"
    }
   ],
   "source": [
    "cf_cic['Account Name '].value_counts().plot.bar()"
   ]
  },
  {
   "cell_type": "markdown",
   "metadata": {},
   "source": [
    "### Univariant Analysis - Conclusion"
   ]
  },
  {
   "cell_type": "markdown",
   "metadata": {},
   "source": [
    "- **1. Will look into the accounts with greater than or equal to 2 Failed changes.**\n",
    "- **2. 15 out 27 accounts have 2 or more failed changes in 2019.**\n",
    "- **3. Floure - 15, Blackboard & Chrysler - 4 , VF,BNSF,BMO Harris, AECOM - 3.**\n",
    "- **4. 7 Accounts out of 27 Accounts have contributed to 35 Failed changes which is 56% of the Failed change Volume.**\n",
    "- **5. 8 Accounts have minimum 2 Failed Changes.**\n",
    "- **6. 15 Accounts out 27 accoutns for 51 Failed Changes which is 81% of the Failed change Volume**"
   ]
  },
  {
   "cell_type": "markdown",
   "metadata": {},
   "source": [
    "## Bivariant Analysis"
   ]
  },
  {
   "cell_type": "code",
   "execution_count": 63,
   "metadata": {},
   "outputs": [
    {
     "data": {
      "image/png": "[encoded data removed]",
      "text/plain": [
       "<Figure size 1440x720 with 4 Axes>"
      ]
     },
     "metadata": {},
     "output_type": "display_data"
    }
   ],
   "source": [
    "## Change Implementation Day vs Failed Changes\n",
    "plt.figure(1)\n",
    "plt.subplot(221)\n",
    "cf_cic['Change implementation Day'].value_counts().plot.bar(figsize = (20,10), title = 'Change implementation Day')\n",
    "\n",
    "#Sector Vs Change Failures\n",
    "plt.subplot(222)\n",
    "cf_cic['Sector'].value_counts().plot.bar(figsize = (20,10), title = 'Sector')\n",
    "\n",
    "#Location Vs Change Failures\n",
    "plt.subplot(223)\n",
    "cf_cic['Location  '].value_counts().plot.bar(figsize = (20,10), title = 'Location  ')\n",
    "\n",
    "#Normal, Emergency or Expedited Change Vs Change Failures\n",
    "plt.subplot(224)\n",
    "cf_cic['Normal, Emergency or Expedited Change '].value_counts().plot.bar(figsize = (20,10), title = 'Normal, Emergency or Expedited Change ')\n"
   ]
  },
  {
   "cell_type": "code",
   "execution_count": 67,
   "metadata": {},
   "outputs": [
    {
     "data": {
      "image/png": "[encoded data removed]",
      "text/plain": [
       "<Figure size 1440x720 with 3 Axes>"
      ]
     },
     "metadata": {},
     "output_type": "display_data"
    }
   ],
   "source": [
    "## Risklevel Vs Failed Changes\n",
    "plt.figure(1)\n",
    "plt.subplot(221)\n",
    "cf_cic['Change Risk Level '].value_counts().plot.bar(figsize = (20,10), title = 'Change Risk Level ')\n",
    "\n",
    "## Reason For Failure Vs Failed Changes\n",
    "plt.subplot(222)\n",
    "cf_cic['Reason for failure '].value_counts().plot.bar(figsize = (20,10), title = 'Reason for failure ')\n",
    "\n",
    "## Client Impact Vs Failed Changes\n",
    "plt.subplot(223)\n",
    "cf_cic['Client Impact'].value_counts().plot.bar(figsize = (20,10), title = 'Client Impact')\n",
    "\n",
    "plt.show()"
   ]
  },
  {
   "cell_type": "markdown",
   "metadata": {},
   "source": [
    "### Bivariant Analysis - Conclusion"
   ]
  },
  {
   "cell_type": "markdown",
   "metadata": {},
   "source": [
    "- 1.***Change Implementation Day Vs No.of Failed Changes - Its Not Significant***\n",
    "- 2.***Sector Vs No.of Failed Changes: Both IND & DIS Sec have contributed to around 43 Failed changes out of 63***\n",
    "- 3.***Location Vs No.of Failed Changes : Banglore & Hyderabad (40) Contributed to 26 & 14 Failed changes repectively***\n",
    "- 4.***Normal, Emergency or Expedited Change Vs No.of Failed Changes: 51 Normal Changes failed***\n",
    "- 5.***Risklevel Vs Failed Changes : Medium-19 and Minor-33,both Contribute to 52 Failed changes out of 63***\n",
    "- 6.***Reason For Failure Vs No.of Failed Changes : 33 failed changes realted to Changemgmt and 6 Decision Making error.***\t\n",
    "- 7.***Client Impact Vs No.of Failed Changes : 55 out 63 \"No Client Impact\" changes have been failed***"
   ]
  },
  {
   "cell_type": "markdown",
   "metadata": {},
   "source": [
    "## My Conclusion based on the data"
   ]
  },
  {
   "cell_type": "markdown",
   "metadata": {},
   "source": [
    "### Priority 1 : Both Industrail and Distribution Sectors from Banglore and Hyderabad Location Need to be trained on Change Manamgent"
   ]
  },
  {
   "cell_type": "code",
   "execution_count": null,
   "metadata": {},
   "outputs": [],
   "source": []
  }
 ],
 "metadata": {
  "kernelspec": {
   "display_name": "Python 3",
   "language": "python",
   "name": "python3"
  },
  "language_info": {
   "codemirror_mode": {
    "name": "ipython",
    "version": 3
   },
   "file_extension": ".py",
   "mimetype": "text/x-python",
   "name": "python",
   "nbconvert_exporter": "python",
   "pygments_lexer": "ipython3",
   "version": "3.6.4"
  }
 },
 "nbformat": 4,
 "nbformat_minor": 2
}
